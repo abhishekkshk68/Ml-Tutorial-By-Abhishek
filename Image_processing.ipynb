{
  "nbformat": 4,
  "nbformat_minor": 0,
  "metadata": {
    "colab": {
      "name": "Image processing.ipynb",
      "provenance": []
    },
    "kernelspec": {
      "name": "python3",
      "display_name": "Python 3"
    },
    "language_info": {
      "name": "python"
    }
  },
  "cells": [
    {
      "cell_type": "code",
      "metadata": {
        "id": "5QPYN13hBsqK"
      },
      "source": [
        "from PIL import Image\n",
        "from numpy import asarray\n",
        "from sklearn.naive_bayes import GaussianNB"
      ],
      "execution_count": 11,
      "outputs": []
    },
    {
      "cell_type": "code",
      "metadata": {
        "colab": {
          "base_uri": "https://localhost:8080/"
        },
        "id": "v11aEjJOGXub",
        "outputId": "b644058b-5c0a-401d-d105-5d82f28bb950"
      },
      "source": [
        "# sample.png is the name of the image\n",
        "# file and assuming that it is uploaded\n",
        "# in the current directory or we need\n",
        "# to give the path\n",
        "image = Image.open('Sample.png')\n",
        "  \n",
        "# summarize some details about the image\n",
        "print(image.format)\n",
        "print(image.size)\n",
        "print(image.mode)\n",
        "\n",
        "numpydata = asarray(image)\n",
        "print(numpydata)\n",
        "\n",
        "pilImage = Image.fromarray(numpydata)\n",
        "print(type(pilImage))\n",
        "\n",
        "image_file = image.convert('1') # convert image to black and white\n",
        "image_file.save('result.png')"
      ],
      "execution_count": 28,
      "outputs": [
        {
          "output_type": "stream",
          "text": [
            "PNG\n",
            "(400, 200)\n",
            "RGB\n",
            "[[[111  60   0]\n",
            "  [116  65   0]\n",
            "  [122  69   0]\n",
            "  ...\n",
            "  [ 97  47   0]\n",
            "  [ 99  47   0]\n",
            "  [100  49   0]]\n",
            "\n",
            " [[111  61   0]\n",
            "  [118  65   0]\n",
            "  [122  69   0]\n",
            "  ...\n",
            "  [ 97  47   0]\n",
            "  [ 99  48   0]\n",
            "  [100  49   0]]\n",
            "\n",
            " [[118  65   0]\n",
            "  [122  69   0]\n",
            "  [126  73   3]\n",
            "  ...\n",
            "  [ 98  48   0]\n",
            "  [100  49   0]\n",
            "  [100  49   0]]\n",
            "\n",
            " ...\n",
            "\n",
            " [[ 96  44   7]\n",
            "  [ 95  43   6]\n",
            "  [ 93  41   4]\n",
            "  ...\n",
            "  [225  80   3]\n",
            "  [228  80   0]\n",
            "  [229  78   0]]\n",
            "\n",
            " [[ 93  40   6]\n",
            "  [ 90  37   5]\n",
            "  [ 85  32   0]\n",
            "  ...\n",
            "  [226  81   4]\n",
            "  [231  80   1]\n",
            "  [232  79   1]]\n",
            "\n",
            " [[ 89  36   4]\n",
            "  [ 84  31   0]\n",
            "  [ 79  26   0]\n",
            "  ...\n",
            "  [228  81   4]\n",
            "  [232  81   4]\n",
            "  [233  80   2]]]\n",
            "<class 'PIL.Image.Image'>\n"
          ],
          "name": "stdout"
        }
      ]
    },
    {
      "cell_type": "code",
      "metadata": {
        "id": "WO22NR8OGe1k"
      },
      "source": [
        "image_file = image.convert('1').resize((28, 28)) # convert image to black and white\n",
        "image_file.save('Blresult.png')"
      ],
      "execution_count": 30,
      "outputs": []
    },
    {
      "cell_type": "code",
      "metadata": {
        "colab": {
          "base_uri": "https://localhost:8080/"
        },
        "id": "1qdQnxb_HRgl",
        "outputId": "d3511b28-a9dd-4b9f-de18-d371cf61773d"
      },
      "source": [
        "image = Image.open('Blresult.png')\n",
        "data = asarray(image)\n",
        "print(data.shape)\n",
        "model=GaussianNB()\n",
        "model.fit([data[:,1]],[1])"
      ],
      "execution_count": 40,
      "outputs": [
        {
          "output_type": "stream",
          "text": [
            "(28, 28)\n"
          ],
          "name": "stdout"
        },
        {
          "output_type": "execute_result",
          "data": {
            "text/plain": [
              "GaussianNB(priors=None, var_smoothing=1e-09)"
            ]
          },
          "metadata": {
            "tags": []
          },
          "execution_count": 40
        }
      ]
    },
    {
      "cell_type": "code",
      "metadata": {
        "id": "kHZNUfVRJ8hE"
      },
      "source": [
        "model.predict()"
      ],
      "execution_count": null,
      "outputs": []
    }
  ]
}